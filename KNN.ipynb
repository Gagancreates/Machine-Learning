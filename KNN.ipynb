{
 "cells": [
  {
   "cell_type": "code",
   "execution_count": 11,
   "id": "10e08a9a",
   "metadata": {},
   "outputs": [],
   "source": [
    "import numpy as np\n",
    "def euclidean(x, y):\n",
    "    return np.sqrt( np.sum((x-y)**2))\n",
    "\n",
    "\n",
    "# for classificaition get the maximum of the 0, 1 around k nearest neighbours\n",
    "# for prediction take the avg of the values around the k nn"
   ]
  },
  {
   "cell_type": "code",
   "execution_count": 43,
   "id": "dcdd24d9",
   "metadata": {},
   "outputs": [],
   "source": [
    "from collections import Counter\n",
    "class KNN:\n",
    "    def __init__(self, k=3):\n",
    "        self.k=k\n",
    "\n",
    "    def fit(self, X_train, Y_train):\n",
    "        self.X_train=X_train\n",
    "        self.Y_train=Y_train\n",
    "\n",
    "    def predict(self, X):\n",
    "        predictions=[self._predict(x) for x in X]\n",
    "        return np.array(predictions)\n",
    "    \n",
    "    def _predict(self, x):\n",
    "        distance=[euclidean(x, x_train) for x_train in self.X_train]\n",
    "        \n",
    "        # using the built in argsort\n",
    "        #sorted_index=np.argsort(distance)[:self.k]\n",
    "\n",
    "        #writing my own argsort\n",
    "        sortt=sorted(distance)\n",
    "        sorted_index=[distance.index(i) for i in sortt ][: self.k]\n",
    "        knn=[self.Y_train[i] for i in sorted_index]\n",
    "\n",
    "\n",
    "        # if we are finding the prediction/avg\\\n",
    "        #avg=np.sum(knn)/(self.k)\n",
    "        most_common=Counter(knn).most_common(1)\n",
    "        return most_common[0][0]\n",
    "\n",
    "\n",
    "        "
   ]
  },
  {
   "cell_type": "code",
   "execution_count": 50,
   "id": "38d2fb04",
   "metadata": {},
   "outputs": [
    {
     "name": "stdout",
     "output_type": "stream",
     "text": [
      "Accuracy:  1.0\n"
     ]
    },
    {
     "data": {
      "text/plain": [
       "array([1, 0, 2, 1, 1, 0, 1, 2, 1, 1, 2, 0, 0, 0, 0, 1, 2, 1, 1, 2, 0, 2,\n",
       "       0, 2, 2, 2, 2, 2, 0, 0])"
      ]
     },
     "execution_count": 50,
     "metadata": {},
     "output_type": "execute_result"
    }
   ],
   "source": [
    "from sklearn.datasets import load_iris\n",
    "from sklearn.model_selection import train_test_split\n",
    "from sklearn.metrics import accuracy_score\n",
    "\n",
    "iris=load_iris()\n",
    "iris\n",
    "x, y=iris.data, iris.target\n",
    "X_train, X_test, Y_train, Y_test= train_test_split(x, y, test_size=0.2, random_state=42)\n",
    "\n",
    "train=KNN(k=3)\n",
    "train.fit(X_train, Y_train)\n",
    "y_pred=train.predict(X_test)\n",
    "\n",
    "print(\"Accuracy: \", accuracy_score(Y_test, y_pred))\n",
    "y_pred"
   ]
  },
  {
   "cell_type": "code",
   "execution_count": null,
   "id": "8f311987",
   "metadata": {},
   "outputs": [],
   "source": []
  }
 ],
 "metadata": {
  "kernelspec": {
   "display_name": "Python 3",
   "language": "python",
   "name": "python3"
  },
  "language_info": {
   "codemirror_mode": {
    "name": "ipython",
    "version": 3
   },
   "file_extension": ".py",
   "mimetype": "text/x-python",
   "name": "python",
   "nbconvert_exporter": "python",
   "pygments_lexer": "ipython3",
   "version": "3.12.8"
  }
 },
 "nbformat": 4,
 "nbformat_minor": 5
}
