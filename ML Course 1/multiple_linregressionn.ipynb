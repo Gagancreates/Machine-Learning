{
 "cells": [
  {
   "cell_type": "markdown",
   "id": "a90368bf-f6b9-410a-865d-aa56c97b7e66",
   "metadata": {},
   "source": [
    "# Implementing Multiple Variable Linear regression "
   ]
  },
  {
   "cell_type": "code",
   "execution_count": 6,
   "id": "94352ae3-946f-4761-b155-025dd40a8285",
   "metadata": {},
   "outputs": [],
   "source": [
    "import numpy as np\n",
    "\n",
    "X_train = np.array([[2104, 5, 1, 45], [1416, 3, 2, 40], [852, 2, 1, 35]])\n",
    "y_train = np.array([460, 232, 178])"
   ]
  },
  {
   "cell_type": "code",
   "execution_count": 7,
   "id": "e81eb250-9711-4a1c-ba28-04ca9cb2b055",
   "metadata": {},
   "outputs": [],
   "source": [
    "b_init = 785.1811367994083\n",
    "w_init = np.array([ 0.39133535, 18.75376741, -53.36032453, -26.42131618])"
   ]
  },
  {
   "cell_type": "code",
   "execution_count": 8,
   "id": "36b09d6b-2d6d-452f-a726-78528c706eda",
   "metadata": {},
   "outputs": [],
   "source": [
    "def predict( w, x, b):\n",
    "    p=0\n",
    "    \n",
    "    n=x.shape[0]\n",
    "    for i in range(n):\n",
    "        p_i= w[i]*x[i]\n",
    "        p+=p_i\n",
    "    p=p+b\n",
    "    return p"
   ]
  },
  {
   "cell_type": "code",
   "execution_count": 18,
   "id": "e64d85de-97d9-4cca-8541-fc0b055da8da",
   "metadata": {},
   "outputs": [],
   "source": [
    "def compute_cost(X, y, w, b): \n",
    "    \"\"\"\n",
    "    compute cost\n",
    "    Args:\n",
    "      X (ndarray (m,n)): Data, m examples with n features\n",
    "      y (ndarray (m,)) : target values\n",
    "      w (ndarray (n,)) : model parameters  \n",
    "      b (scalar)       : model parameter\n",
    "      \n",
    "    Returns:\n",
    "      cost (scalar): cost\n",
    "    \"\"\"\n",
    "    m = X.shape[0]\n",
    "    cost = 0.0\n",
    "    for i in range(m):                                \n",
    "        f_wb_i = np.dot(X[i], w) + b           #(n,)(n,) = scalar (see np.dot)\n",
    "        cost = cost + (f_wb_i - y[i])**2       #scalar\n",
    "    cost = cost / (2 * m)                      #scalar    \n",
    "    return cost"
   ]
  },
  {
   "cell_type": "code",
   "execution_count": 9,
   "id": "a692fcea-a8e5-4b67-b3dc-8db0b721dd52",
   "metadata": {},
   "outputs": [
    {
     "name": "stdout",
     "output_type": "stream",
     "text": [
      "459.9999976194083\n"
     ]
    }
   ],
   "source": [
    "x_vect=X_train[0, :]\n",
    "print(predict(w_init, x_vect, b_init))"
   ]
  },
  {
   "cell_type": "code",
   "execution_count": 10,
   "id": "baa12ff6-4c1b-4929-81d6-28edb041bdbd",
   "metadata": {},
   "outputs": [],
   "source": [
    "def prediction(w, x, b):\n",
    "    p= np.dot(x,w) +b\n",
    "    return (p)"
   ]
  },
  {
   "cell_type": "code",
   "execution_count": 11,
   "id": "5ed08c38-432e-4bb1-b047-232ee8fddc0d",
   "metadata": {},
   "outputs": [
    {
     "name": "stdout",
     "output_type": "stream",
     "text": [
      "459.9999976194083\n"
     ]
    }
   ],
   "source": [
    "print(prediction(w_init, x_vect, b_init))"
   ]
  },
  {
   "cell_type": "markdown",
   "id": "9c61bc35-1435-4ce8-b8a9-98e462f3caef",
   "metadata": {},
   "source": [
    "# Implementing Gradient Descent for Multiple Variables "
   ]
  },
  {
   "cell_type": "code",
   "execution_count": 15,
   "id": "8aa17320-b8d7-4991-8f9d-e8bce6039f4a",
   "metadata": {},
   "outputs": [],
   "source": [
    "def compute_gradient(X, y, w, b): \n",
    "    m,n = X.shape           \n",
    "    dj_dw = np.zeros((n,))\n",
    "    dj_db = 0.\n",
    "\n",
    "    for i in range(m):                             \n",
    "        err = (np.dot(X[i], w) + b) - y[i]   \n",
    "        for j in range(n):                         \n",
    "            dj_dw[j] = dj_dw[j] + err * X[i, j]    \n",
    "        dj_db = dj_db + err                        \n",
    "    dj_dw = dj_dw / m                                \n",
    "    dj_db = dj_db / m                                \n",
    "        \n",
    "    return dj_db, dj_dw"
   ]
  },
  {
   "cell_type": "code",
   "execution_count": 20,
   "id": "0e97cbb5-2d7b-4d5e-ae67-e5a56f969599",
   "metadata": {},
   "outputs": [],
   "source": [
    "def gradient_descent(X, y, w_in, b_in, cost, gradient_func, alpha, num_iter):\n",
    "    J_History=[]\n",
    "     #avoid modifying global w within function\n",
    "    b = b_in\n",
    "    \n",
    "    dj_dw, dj_db= gradient_func(X, y, w, b)\n",
    "    w= w - alpha*dj_dw\n",
    "    b= b- alpha*dj_db\n",
    "    if i<100000:      # prevent resource exhaustion \n",
    "            J_history.append( cost_function(X, y, w, b))\n",
    "    return w, b, J_history #return final w,b and J history for graphing\n",
    "    "
   ]
  },
  {
   "cell_type": "code",
   "execution_count": 22,
   "id": "69b9b298-3566-491d-82f2-6c06a4d97e20",
   "metadata": {
    "scrolled": true
   },
   "outputs": [
    {
     "ename": "UnboundLocalError",
     "evalue": "cannot access local variable 'w' where it is not associated with a value",
     "output_type": "error",
     "traceback": [
      "\u001b[31m---------------------------------------------------------------------------\u001b[39m",
      "\u001b[31mUnboundLocalError\u001b[39m                         Traceback (most recent call last)",
      "\u001b[36mCell\u001b[39m\u001b[36m \u001b[39m\u001b[32mIn[22]\u001b[39m\u001b[32m, line 10\u001b[39m\n\u001b[32m      8\u001b[39m alpha = \u001b[32m5.0e-7\u001b[39m\n\u001b[32m      9\u001b[39m \u001b[38;5;66;03m# run gradient descent \u001b[39;00m\n\u001b[32m---> \u001b[39m\u001b[32m10\u001b[39m w_final, b_final, J_hist = \u001b[43mgradient_descent\u001b[49m\u001b[43m(\u001b[49m\u001b[43mX_train\u001b[49m\u001b[43m,\u001b[49m\u001b[43m \u001b[49m\u001b[43my_train\u001b[49m\u001b[43m,\u001b[49m\u001b[43m \u001b[49m\u001b[43minitial_w\u001b[49m\u001b[43m,\u001b[49m\u001b[43m \u001b[49m\u001b[43minitial_b\u001b[49m\u001b[43m,\u001b[49m\n\u001b[32m     11\u001b[39m \u001b[43m                                                    \u001b[49m\u001b[43mcompute_cost\u001b[49m\u001b[43m,\u001b[49m\u001b[43m \u001b[49m\u001b[43mcompute_gradient\u001b[49m\u001b[43m,\u001b[49m\u001b[43m \u001b[49m\n\u001b[32m     12\u001b[39m \u001b[43m                                                    \u001b[49m\u001b[43malpha\u001b[49m\u001b[43m,\u001b[49m\u001b[43m \u001b[49m\u001b[43miterations\u001b[49m\u001b[43m)\u001b[49m\n\u001b[32m     13\u001b[39m \u001b[38;5;28mprint\u001b[39m(\u001b[33mf\u001b[39m\u001b[33m\"\u001b[39m\u001b[33mb,w found by gradient descent: \u001b[39m\u001b[38;5;132;01m{\u001b[39;00mb_final\u001b[38;5;132;01m:\u001b[39;00m\u001b[33m0.2f\u001b[39m\u001b[38;5;132;01m}\u001b[39;00m\u001b[33m,\u001b[39m\u001b[38;5;132;01m{\u001b[39;00mw_final\u001b[38;5;132;01m}\u001b[39;00m\u001b[33m \u001b[39m\u001b[33m\"\u001b[39m)\n\u001b[32m     14\u001b[39m m,_ = X_train.shape\n",
      "\u001b[36mCell\u001b[39m\u001b[36m \u001b[39m\u001b[32mIn[20]\u001b[39m\u001b[32m, line 6\u001b[39m, in \u001b[36mgradient_descent\u001b[39m\u001b[34m(X, y, w_in, b_in, cost, gradient_func, alpha, num_iter)\u001b[39m\n\u001b[32m      3\u001b[39m  \u001b[38;5;66;03m#avoid modifying global w within function\u001b[39;00m\n\u001b[32m      4\u001b[39m b = b_in\n\u001b[32m----> \u001b[39m\u001b[32m6\u001b[39m dj_dw, dj_db= gradient_func(X, y, \u001b[43mw\u001b[49m, b)\n\u001b[32m      7\u001b[39m w= w - alpha*dj_dw\n\u001b[32m      8\u001b[39m b= b- alpha*dj_db\n",
      "\u001b[31mUnboundLocalError\u001b[39m: cannot access local variable 'w' where it is not associated with a value"
     ]
    }
   ],
   "source": [
    "# initialize parameters\n",
    "import numpy\n",
    "w=0\n",
    "initial_w = numpy.zeros_like(w_init)\n",
    "initial_b = 0.\n",
    "# some gradient descent settings\n",
    "iterations = 1000\n",
    "alpha = 5.0e-7\n",
    "# run gradient descent \n",
    "w_final, b_final, J_hist = gradient_descent(X_train, y_train, initial_w, initial_b,\n",
    "                                                    compute_cost, compute_gradient, \n",
    "                                                    alpha, iterations)\n",
    "print(f\"b,w found by gradient descent: {b_final:0.2f},{w_final} \")\n",
    "m,_ = X_train.shape\n",
    "for i in range(m):\n",
    "    print(f\"prediction: {np.dot(X_train[i], w_final) + b_final:0.2f}, target value: {y_train[i]}\")"
   ]
  },
  {
   "cell_type": "code",
   "execution_count": null,
   "id": "e7c4694b-3e52-4c40-b22f-93474cf9e687",
   "metadata": {},
   "outputs": [],
   "source": []
  }
 ],
 "metadata": {
  "kernelspec": {
   "display_name": "Python 3 (ipykernel)",
   "language": "python",
   "name": "python3"
  },
  "language_info": {
   "codemirror_mode": {
    "name": "ipython",
    "version": 3
   },
   "file_extension": ".py",
   "mimetype": "text/x-python",
   "name": "python",
   "nbconvert_exporter": "python",
   "pygments_lexer": "ipython3",
   "version": "3.12.8"
  }
 },
 "nbformat": 4,
 "nbformat_minor": 5
}
