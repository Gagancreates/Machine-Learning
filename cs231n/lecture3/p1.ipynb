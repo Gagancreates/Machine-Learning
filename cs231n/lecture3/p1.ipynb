{
 "cells": [
  {
   "cell_type": "code",
   "execution_count": 4,
   "id": "ceb409a6",
   "metadata": {},
   "outputs": [],
   "source": [
    "import numpy as np\n",
    "# now writing a multiclass svm loss function\n"
   ]
  },
  {
   "cell_type": "code",
   "execution_count": 5,
   "id": "8a8631fa",
   "metadata": {},
   "outputs": [],
   "source": [
    "def svm_loss(x, y, W):\n",
    "    scores=np.dot(W, x)\n",
    "    loss=np.maximum(0, scores-scores[y]+1)\n",
    "    loss[y]=0\n",
    "    total_loss=np.sum(loss)\n",
    "    return total_loss"
   ]
  },
  {
   "cell_type": "code",
   "execution_count": 13,
   "id": "fb9c1c27",
   "metadata": {},
   "outputs": [],
   "source": [
    "x=[100.0, 120.32, 109.33]\n",
    "def softmax(x):\n",
    "    e=np.exp(x-np.max(x, axis=0, keepdims=True))\n",
    "    return e/np.sum(e)"
   ]
  },
  {
   "cell_type": "code",
   "execution_count": 19,
   "id": "d7737e03",
   "metadata": {},
   "outputs": [],
   "source": [
    "# softmax loss or cross entropy loss\n",
    "y=softmax(x)\n",
    "log_y=-(np.log(y))\n"
   ]
  },
  {
   "cell_type": "code",
   "execution_count": null,
   "id": "4b75ef4b",
   "metadata": {},
   "outputs": [],
   "source": []
  }
 ],
 "metadata": {
  "kernelspec": {
   "display_name": "Python 3",
   "language": "python",
   "name": "python3"
  },
  "language_info": {
   "codemirror_mode": {
    "name": "ipython",
    "version": 3
   },
   "file_extension": ".py",
   "mimetype": "text/x-python",
   "name": "python",
   "nbconvert_exporter": "python",
   "pygments_lexer": "ipython3",
   "version": "3.12.8"
  }
 },
 "nbformat": 4,
 "nbformat_minor": 5
}
